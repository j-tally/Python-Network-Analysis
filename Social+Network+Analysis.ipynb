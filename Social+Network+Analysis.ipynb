{
 "cells": [
  {
   "cell_type": "markdown",
   "metadata": {},
   "source": [
    "# Outsides Facebook Page Network Analysis "
   ]
  },
  {
   "cell_type": "markdown",
   "metadata": {},
   "source": [
    "This is a network analysis exercise of Outsides' music/artist page.  First, import the necessary packages:"
   ]
  },
  {
   "cell_type": "code",
   "execution_count": 1,
   "metadata": {
    "collapsed": true
   },
   "outputs": [],
   "source": [
    "import networkx as nx\n",
    "import matplotlib.pyplot as plt"
   ]
  },
  {
   "cell_type": "markdown",
   "metadata": {},
   "source": [
    "Read in pajek file: "
   ]
  },
  {
   "cell_type": "code",
   "execution_count": 2,
   "metadata": {
    "collapsed": false
   },
   "outputs": [],
   "source": [
    "netA = nx.read_pajek(\"outsides.net\")"
   ]
  },
  {
   "cell_type": "markdown",
   "metadata": {},
   "source": [
    "Next, determine and answer the following questions about the graph. "
   ]
  },
  {
   "cell_type": "code",
   "execution_count": 3,
   "metadata": {
    "collapsed": false
   },
   "outputs": [
    {
     "name": "stdout",
     "output_type": "stream",
     "text": [
      "1. Find the number of nodes in the graph.\n",
      "Number of Nodes in Graph:  296\n"
     ]
    }
   ],
   "source": [
    "print(\"1. Find the number of nodes in the graph.\")\n",
    "print(\"Number of Nodes in Graph: \", len(netA))"
   ]
  },
  {
   "cell_type": "code",
   "execution_count": 4,
   "metadata": {
    "collapsed": false
   },
   "outputs": [
    {
     "name": "stdout",
     "output_type": "stream",
     "text": [
      "2. Find the number of of components (connected subgraphs).\n",
      "Number of Components:  1\n"
     ]
    }
   ],
   "source": [
    "print(\"2. Find the number of of components (connected subgraphs).\")\n",
    "print(\"Number of Components: \", len(list(nx.connected_component_subgraphs(netA))))"
   ]
  },
  {
   "cell_type": "code",
   "execution_count": 5,
   "metadata": {
    "collapsed": false
   },
   "outputs": [
    {
     "name": "stdout",
     "output_type": "stream",
     "text": [
      "3. Find the node with the maximum degree. What is that degree?\n"
     ]
    }
   ],
   "source": [
    "print(\"3. Find the node with the maximum degree. What is that degree?\")"
   ]
  },
  {
   "cell_type": "markdown",
   "metadata": {},
   "source": [
    "Define the degree."
   ]
  },
  {
   "cell_type": "code",
   "execution_count": 6,
   "metadata": {
    "collapsed": false
   },
   "outputs": [
    {
     "name": "stdout",
     "output_type": "stream",
     "text": [
      "Maximum Degree Node:  04e07a31888e8eb7e8477ede3abf517122705477\n",
      "Degree:  87\n"
     ]
    }
   ],
   "source": [
    "degree = nx.degree(netA)\n",
    "print(\"Maximum Degree Node: \", max(degree, key= degree.get))\n",
    "print(\"Degree: \", max(degree.values()))"
   ]
  },
  {
   "cell_type": "code",
   "execution_count": 7,
   "metadata": {
    "collapsed": false
   },
   "outputs": [
    {
     "name": "stdout",
     "output_type": "stream",
     "text": [
      "4. Convert the graph to an undirected graph. What is the number of edges?\n"
     ]
    }
   ],
   "source": [
    "print(\"4. Convert the graph to an undirected graph. What is the number of edges?\")"
   ]
  },
  {
   "cell_type": "markdown",
   "metadata": {},
   "source": [
    "Converting to undirected graph."
   ]
  },
  {
   "cell_type": "code",
   "execution_count": 8,
   "metadata": {
    "collapsed": false
   },
   "outputs": [
    {
     "name": "stdout",
     "output_type": "stream",
     "text": [
      "Number of Edges of Undirected Graph:  740\n"
     ]
    }
   ],
   "source": [
    "direct = nx.Graph(netA)\n",
    "uDirect = direct.to_undirected()\n",
    "print(\"Number of Edges of Undirected Graph: \", len(uDirect.edges()))"
   ]
  },
  {
   "cell_type": "code",
   "execution_count": 9,
   "metadata": {
    "collapsed": false
   },
   "outputs": [
    {
     "name": "stdout",
     "output_type": "stream",
     "text": [
      "5. What is the density of the graph?\n",
      "Density of the Graph:  0.01694915254237288\n"
     ]
    }
   ],
   "source": [
    "print(\"5. What is the density of the graph?\")\n",
    "print(\"Density of the Graph: \", nx.density(netA))"
   ]
  },
  {
   "cell_type": "code",
   "execution_count": 10,
   "metadata": {
    "collapsed": false
   },
   "outputs": [
    {
     "name": "stdout",
     "output_type": "stream",
     "text": [
      "6. Create a degree distribution plot.\n"
     ]
    }
   ],
   "source": [
    "print(\"6. Create a degree distribution plot.\")"
   ]
  },
  {
   "cell_type": "markdown",
   "metadata": {},
   "source": [
    "Define requirements for plotting."
   ]
  },
  {
   "cell_type": "code",
   "execution_count": 11,
   "metadata": {
    "collapsed": true
   },
   "outputs": [],
   "source": [
    "degree_sequence = sorted(nx.degree(netA).values(), reverse=True)\n",
    "dmax = max(degree_sequence)"
   ]
  },
  {
   "cell_type": "code",
   "execution_count": 12,
   "metadata": {
    "collapsed": false
   },
   "outputs": [
    {
     "data": {
      "image/png": "[encoded data removed]",
      "text/plain": [
       "<matplotlib.figure.Figure at 0x24a06d4d6a0>"
      ]
     },
     "metadata": {},
     "output_type": "display_data"
    }
   ],
   "source": [
    "plt.hist(degree_sequence, bins=dmax)\n",
    "plt.title(\"Degree Distribution Plot\")\n",
    "plt.ylabel(\"Count\")\n",
    "plt.xlabel(\"Degree\")\n",
    "plt.show()"
   ]
  }
 ],
 "metadata": {
  "kernelspec": {
   "display_name": "Python 3",
   "language": "python",
   "name": "python3"
  },
  "language_info": {
   "codemirror_mode": {
    "name": "ipython",
    "version": 3
   },
   "file_extension": ".py",
   "mimetype": "text/x-python",
   "name": "python",
   "nbconvert_exporter": "python",
   "pygments_lexer": "ipython3",
   "version": "3.5.2"
  }
 },
 "nbformat": 4,
 "nbformat_minor": 2
}
